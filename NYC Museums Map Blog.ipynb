{
 "cells": [
  {
   "cell_type": "markdown",
   "metadata": {},
   "source": [
    "# NYC Museums Map Blog"
   ]
  },
  {
   "cell_type": "markdown",
   "metadata": {},
   "source": [
    "### Scrape data to get the full descriptions of each museum"
   ]
  },
  {
   "cell_type": "code",
   "execution_count": 1,
   "metadata": {},
   "outputs": [],
   "source": [
    "# import beautifulsoup and set up link to scrape\n",
    "import csv\n",
    "import requests\n",
    "import urllib.request\n",
    "from bs4 import BeautifulSoup\n",
    "\n",
    "url = 'https://en.wikipedia.org/wiki/List_of_museums_in_New_York_City'\n",
    "response = requests.get(url)\n",
    "html = response.content\n",
    "\n",
    "soup = BeautifulSoup(html, 'html.parser')"
   ]
  },
  {
   "cell_type": "code",
   "execution_count": 2,
   "metadata": {},
   "outputs": [],
   "source": [
    "# metaphorically \"throw net over\" the content that we want.\n",
    "rows = soup.findAll('tr')"
   ]
  },
  {
   "cell_type": "code",
   "execution_count": 3,
   "metadata": {},
   "outputs": [
    {
     "data": {
      "text/plain": [
       "'AIGA National Design Center'"
      ]
     },
     "execution_count": 3,
     "metadata": {},
     "output_type": "execute_result"
    }
   ],
   "source": [
    "# narrow down the details to get what we want\n",
    "name = rows[4].td.text.strip('\\n')\n",
    "name"
   ]
  },
  {
   "cell_type": "code",
   "execution_count": 4,
   "metadata": {},
   "outputs": [
    {
     "data": {
      "text/plain": [
       "'Design, Decorative Arts, Architecture'"
      ]
     },
     "execution_count": 4,
     "metadata": {},
     "output_type": "execute_result"
    }
   ],
   "source": [
    "# getting \"focus\" or category of museum\n",
    "focus = rows[4].td.next_sibling.next_sibling.next_sibling.next_sibling.next_sibling.next_sibling.next_sibling.next_sibling.text.strip('\\n').title()\n",
    "focus"
   ]
  },
  {
   "cell_type": "code",
   "execution_count": 5,
   "metadata": {},
   "outputs": [
    {
     "data": {
      "text/plain": [
       "'Website, Public Gallery Of The Aiga Dedicated To Presenting Examples Of Outstanding Contemporary Design'"
      ]
     },
     "execution_count": 5,
     "metadata": {},
     "output_type": "execute_result"
    }
   ],
   "source": [
    "# getting \"summary\" or description of museum\n",
    "summary = rows[4].td.next_sibling.next_sibling.next_sibling.next_sibling.next_sibling.next_sibling.next_sibling.next_sibling.next_sibling.next_sibling.text.strip('\\n').title()\n",
    "summary"
   ]
  },
  {
   "cell_type": "code",
   "execution_count": 6,
   "metadata": {},
   "outputs": [],
   "source": [
    "#show progress bar when we scrape. use this!\n",
    "from tqdm import tqdm "
   ]
  },
  {
   "cell_type": "markdown",
   "metadata": {},
   "source": [
    "### <i>After using code below, comment out to avoid running webscraper twice"
   ]
  },
  {
   "cell_type": "markdown",
   "metadata": {},
   "source": [
    "### ScrapeLoop through Wikipedia with codes we wrote above, save data to CSV"
   ]
  },
  {
   "cell_type": "code",
   "execution_count": null,
   "metadata": {},
   "outputs": [],
   "source": [
    "# file = open('nycmuseumdata.csv', 'w')\n",
    "# writer = csv.writer(file)\n",
    "\n",
    "# writer.writerow(['name', 'focus', 'summary'])\n",
    "\n",
    "# for i in tqdm(range(2, len(rows))):\n",
    "#     for row in rows:\n",
    "#         try:\n",
    "#             name = rows[i].td.text.strip('\\n')\n",
    "#             focus = rows[i].td.next_sibling.next_sibling.next_sibling.next_sibling.next_sibling.next_sibling.next_sibling.next_sibling.text.strip('\\n').capitalize()\n",
    "#             summary = rows[i].td.next_sibling.next_sibling.next_sibling.next_sibling.next_sibling.next_sibling.next_sibling.next_sibling.next_sibling.next_sibling.text.strip('\\n').capitalize()\n",
    "#         except:\n",
    "#             pass\n",
    "#     writer.writerow([name, focus, summary])\n"
   ]
  },
  {
   "cell_type": "markdown",
   "metadata": {},
   "source": [
    "# Merge datasets (1. dataframe(df) with location + 2. df with museum data)"
   ]
  },
  {
   "cell_type": "code",
   "execution_count": 21,
   "metadata": {},
   "outputs": [
    {
     "data": {
      "text/html": [
       "<div>\n",
       "<style scoped>\n",
       "    .dataframe tbody tr th:only-of-type {\n",
       "        vertical-align: middle;\n",
       "    }\n",
       "\n",
       "    .dataframe tbody tr th {\n",
       "        vertical-align: top;\n",
       "    }\n",
       "\n",
       "    .dataframe thead th {\n",
       "        text-align: right;\n",
       "    }\n",
       "</style>\n",
       "<table border=\"1\" class=\"dataframe\">\n",
       "  <thead>\n",
       "    <tr style=\"text-align: right;\">\n",
       "      <th></th>\n",
       "      <th>name</th>\n",
       "      <th>focus</th>\n",
       "      <th>summary</th>\n",
       "    </tr>\n",
       "  </thead>\n",
       "  <tbody>\n",
       "    <tr>\n",
       "      <th>0</th>\n",
       "      <td>9/11 Tribute Museum</td>\n",
       "      <td>American and ny history</td>\n",
       "      <td>History of the september 11 attacks and tours ...</td>\n",
       "    </tr>\n",
       "    <tr>\n",
       "      <th>1</th>\n",
       "      <td>African Burial Ground National Monument</td>\n",
       "      <td>African and african-american</td>\n",
       "      <td>Visitor center and memorial to an 18th-century...</td>\n",
       "    </tr>\n",
       "    <tr>\n",
       "      <th>2</th>\n",
       "      <td>AIGA National Design Center</td>\n",
       "      <td>Design, decorative arts, architecture</td>\n",
       "      <td>Website, public gallery of the aiga dedicated ...</td>\n",
       "    </tr>\n",
       "    <tr>\n",
       "      <th>3</th>\n",
       "      <td>A.I.R. Gallery</td>\n",
       "      <td>Contemporary art</td>\n",
       "      <td>Contemporary art by female artists</td>\n",
       "    </tr>\n",
       "    <tr>\n",
       "      <th>4</th>\n",
       "      <td>Alice Austen House</td>\n",
       "      <td>Photography, film, new media</td>\n",
       "      <td>Home of photographer alice austen, also featur...</td>\n",
       "    </tr>\n",
       "    <tr>\n",
       "      <th>5</th>\n",
       "      <td>American Academy of Arts and Letters</td>\n",
       "      <td>Contemporary art</td>\n",
       "      <td>Exhibitions of its members in american literat...</td>\n",
       "    </tr>\n",
       "    <tr>\n",
       "      <th>6</th>\n",
       "      <td>American Folk Art Museum</td>\n",
       "      <td>Folk art</td>\n",
       "      <td>American folk art</td>\n",
       "    </tr>\n",
       "    <tr>\n",
       "      <th>7</th>\n",
       "      <td>American Museum of Natural History</td>\n",
       "      <td>Nature</td>\n",
       "      <td>The world's largest natural history museum. in...</td>\n",
       "    </tr>\n",
       "    <tr>\n",
       "      <th>8</th>\n",
       "      <td>American Numismatic Society Museum</td>\n",
       "      <td>Financial</td>\n",
       "      <td>Exhibits of coins and medals from all periods ...</td>\n",
       "    </tr>\n",
       "    <tr>\n",
       "      <th>9</th>\n",
       "      <td>Americas Society</td>\n",
       "      <td>Hispanic, latino, and caribbean</td>\n",
       "      <td>Exhibits of historic and contemporary art from...</td>\n",
       "    </tr>\n",
       "  </tbody>\n",
       "</table>\n",
       "</div>"
      ],
      "text/plain": [
       "                                      name  \\\n",
       "0                      9/11 Tribute Museum   \n",
       "1  African Burial Ground National Monument   \n",
       "2              AIGA National Design Center   \n",
       "3                           A.I.R. Gallery   \n",
       "4                       Alice Austen House   \n",
       "5     American Academy of Arts and Letters   \n",
       "6                 American Folk Art Museum   \n",
       "7       American Museum of Natural History   \n",
       "8       American Numismatic Society Museum   \n",
       "9                         Americas Society   \n",
       "\n",
       "                                   focus  \\\n",
       "0                American and ny history   \n",
       "1           African and african-american   \n",
       "2  Design, decorative arts, architecture   \n",
       "3                       Contemporary art   \n",
       "4           Photography, film, new media   \n",
       "5                       Contemporary art   \n",
       "6                               Folk art   \n",
       "7                                 Nature   \n",
       "8                              Financial   \n",
       "9        Hispanic, latino, and caribbean   \n",
       "\n",
       "                                             summary  \n",
       "0  History of the september 11 attacks and tours ...  \n",
       "1  Visitor center and memorial to an 18th-century...  \n",
       "2  Website, public gallery of the aiga dedicated ...  \n",
       "3                 Contemporary art by female artists  \n",
       "4  Home of photographer alice austen, also featur...  \n",
       "5  Exhibitions of its members in american literat...  \n",
       "6                                  American folk art  \n",
       "7  The world's largest natural history museum. in...  \n",
       "8  Exhibits of coins and medals from all periods ...  \n",
       "9  Exhibits of historic and contemporary art from...  "
      ]
     },
     "execution_count": 21,
     "metadata": {},
     "output_type": "execute_result"
    }
   ],
   "source": [
    "#successfully scraped museum data with focus and summary details\n",
    "df_data = pd.read_csv('nycmuseumdata.csv')\n",
    "df_data.head(10)"
   ]
  },
  {
   "cell_type": "code",
   "execution_count": 22,
   "metadata": {
    "scrolled": true
   },
   "outputs": [
    {
     "data": {
      "text/html": [
       "<div>\n",
       "<style scoped>\n",
       "    .dataframe tbody tr th:only-of-type {\n",
       "        vertical-align: middle;\n",
       "    }\n",
       "\n",
       "    .dataframe tbody tr th {\n",
       "        vertical-align: top;\n",
       "    }\n",
       "\n",
       "    .dataframe thead th {\n",
       "        text-align: right;\n",
       "    }\n",
       "</style>\n",
       "<table border=\"1\" class=\"dataframe\">\n",
       "  <thead>\n",
       "    <tr style=\"text-align: right;\">\n",
       "      <th></th>\n",
       "      <th>the_geom</th>\n",
       "      <th>NAME</th>\n",
       "      <th>TEL</th>\n",
       "      <th>URL</th>\n",
       "      <th>ADRESS1</th>\n",
       "      <th>ADDRESS2</th>\n",
       "      <th>CITY</th>\n",
       "      <th>ZIP</th>\n",
       "    </tr>\n",
       "  </thead>\n",
       "  <tbody>\n",
       "    <tr>\n",
       "      <th>0</th>\n",
       "      <td>POINT (-74.01375579519738 40.703816216918035)</td>\n",
       "      <td>Alexander Hamilton U.S. Custom House</td>\n",
       "      <td>(212) 514-3700</td>\n",
       "      <td>http://www.oldnycustomhouse.gov/</td>\n",
       "      <td>1 Bowling Grn</td>\n",
       "      <td>NaN</td>\n",
       "      <td>New York</td>\n",
       "      <td>10004</td>\n",
       "    </tr>\n",
       "    <tr>\n",
       "      <th>1</th>\n",
       "      <td>POINT (-74.06303178855111 40.615120837755356)</td>\n",
       "      <td>Alice Austen House Museum</td>\n",
       "      <td>(718) 816-4506</td>\n",
       "      <td>http://www.aliceausten.org/</td>\n",
       "      <td>2 Hylan Blvd</td>\n",
       "      <td>NaN</td>\n",
       "      <td>Staten Island</td>\n",
       "      <td>10305</td>\n",
       "    </tr>\n",
       "    <tr>\n",
       "      <th>2</th>\n",
       "      <td>POINT (-73.94729768541572 40.833853500753314)</td>\n",
       "      <td>American Academy of Arts and Letters</td>\n",
       "      <td>(212) 368-5900</td>\n",
       "      <td>http://www.artsandletters.org/</td>\n",
       "      <td>633 W. 155th St.</td>\n",
       "      <td>NaN</td>\n",
       "      <td>New York</td>\n",
       "      <td>10032</td>\n",
       "    </tr>\n",
       "  </tbody>\n",
       "</table>\n",
       "</div>"
      ],
      "text/plain": [
       "                                        the_geom  \\\n",
       "0  POINT (-74.01375579519738 40.703816216918035)   \n",
       "1  POINT (-74.06303178855111 40.615120837755356)   \n",
       "2  POINT (-73.94729768541572 40.833853500753314)   \n",
       "\n",
       "                                   NAME             TEL  \\\n",
       "0  Alexander Hamilton U.S. Custom House  (212) 514-3700   \n",
       "1             Alice Austen House Museum  (718) 816-4506   \n",
       "2  American Academy of Arts and Letters  (212) 368-5900   \n",
       "\n",
       "                                URL           ADRESS1 ADDRESS2           CITY  \\\n",
       "0  http://www.oldnycustomhouse.gov/     1 Bowling Grn      NaN       New York   \n",
       "1       http://www.aliceausten.org/      2 Hylan Blvd      NaN  Staten Island   \n",
       "2    http://www.artsandletters.org/  633 W. 155th St.      NaN       New York   \n",
       "\n",
       "     ZIP  \n",
       "0  10004  \n",
       "1  10305  \n",
       "2  10032  "
      ]
     },
     "execution_count": 22,
     "metadata": {},
     "output_type": "execute_result"
    }
   ],
   "source": [
    "# This is the other dataset with coordiantes from NYC gov\n",
    "file = 'Museum Dataset.xlsx'\n",
    "df_location = pd.read_excel(file) # plots df with coordinates/location details\n",
    "df_location.head(3)"
   ]
  },
  {
   "cell_type": "code",
   "execution_count": 23,
   "metadata": {},
   "outputs": [
    {
     "data": {
      "text/plain": [
       "Index(['the_geom', 'name', 'tel', 'url', 'adress1', 'address2', 'city', 'zip'], dtype='object')"
      ]
     },
     "execution_count": 23,
     "metadata": {},
     "output_type": "execute_result"
    }
   ],
   "source": [
    "# let's lowercase our columns and add an underscore between words for easy access\n",
    "## uneccessary but I like doing this for future convenience\n",
    "df_location.columns = [x.lower() for x in df_location.columns] # show columns\n",
    "df_location.columns = [x.replace(' ', '_').lower() for x in df_location.columns] #lower case and replace spaces with '_' for accessibility\n",
    "df_location.columns"
   ]
  },
  {
   "cell_type": "code",
   "execution_count": 24,
   "metadata": {
    "scrolled": false
   },
   "outputs": [
    {
     "data": {
      "text/plain": [
       "0      (-74.01375579519738, 40.703816216918035)\n",
       "1      (-74.06303178855111, 40.615120837755356)\n",
       "2      (-73.94729768541572, 40.833853500753314)\n",
       "3       (-73.97810302110001, 40.76162497138548)\n",
       "4        (-74.0396848374904, 40.69905626244391)\n",
       "                         ...                   \n",
       "125     (-73.99388579658319, 40.73807723317813)\n",
       "126     (-73.99379427245329, 40.73795994708654)\n",
       "127    (-73.99392890421056, 40.738015384101416)\n",
       "128       (-73.99381737049632, 40.738045683847)\n",
       "129    (-73.99386877223978, 40.737986764588406)\n",
       "Name: the_geom, Length: 130, dtype: object"
      ]
     },
     "execution_count": 24,
     "metadata": {},
     "output_type": "execute_result"
    }
   ],
   "source": [
    "# clean up so that coordinates can be used - remove leading white space, remove the word POINT\n",
    "df_location['the_geom'] = df_location['the_geom'].apply(lambda x: x.strip('POINT').lstrip().replace(' ', ', '))\n",
    "df_location['the_geom']"
   ]
  },
  {
   "cell_type": "code",
   "execution_count": 25,
   "metadata": {},
   "outputs": [
    {
     "name": "stdout",
     "output_type": "stream",
     "text": [
      "<class 'pandas.core.frame.DataFrame'>\n",
      "Int64Index: 306 entries, 0 to 305\n",
      "Data columns (total 10 columns):\n",
      " #   Column    Non-Null Count  Dtype  \n",
      "---  ------    --------------  -----  \n",
      " 0   the_geom  132 non-null    object \n",
      " 1   name      306 non-null    object \n",
      " 2   tel       130 non-null    object \n",
      " 3   url       132 non-null    object \n",
      " 4   adress1   132 non-null    object \n",
      " 5   address2  15 non-null     object \n",
      " 6   city      132 non-null    object \n",
      " 7   zip       132 non-null    float64\n",
      " 8   focus     181 non-null    object \n",
      " 9   summary   223 non-null    object \n",
      "dtypes: float64(1), object(9)\n",
      "memory usage: 26.3+ KB\n"
     ]
    }
   ],
   "source": [
    "# merge \"name\" to get these two datasets together. Do an outer join to keep everything\n",
    "df_final = df_location.merge(df_data, on='name', how='outer')\n",
    "df_final.info()"
   ]
  },
  {
   "cell_type": "code",
   "execution_count": 26,
   "metadata": {},
   "outputs": [],
   "source": [
    "# take df_final to excel to fill in any missing data\n",
    "## Some of the museums are spelled slightly different and could not be filled in properly. \n",
    "### I take it to excel to manually fill them in as there isn't too many.\n",
    "df_final.to_excel('museum_cleaning.xlsx')"
   ]
  },
  {
   "cell_type": "code",
   "execution_count": 38,
   "metadata": {},
   "outputs": [
    {
     "data": {
      "text/html": [
       "<div>\n",
       "<style scoped>\n",
       "    .dataframe tbody tr th:only-of-type {\n",
       "        vertical-align: middle;\n",
       "    }\n",
       "\n",
       "    .dataframe tbody tr th {\n",
       "        vertical-align: top;\n",
       "    }\n",
       "\n",
       "    .dataframe thead th {\n",
       "        text-align: right;\n",
       "    }\n",
       "</style>\n",
       "<table border=\"1\" class=\"dataframe\">\n",
       "  <thead>\n",
       "    <tr style=\"text-align: right;\">\n",
       "      <th></th>\n",
       "      <th>the_geom</th>\n",
       "      <th>name</th>\n",
       "      <th>tel</th>\n",
       "      <th>url</th>\n",
       "      <th>adress1</th>\n",
       "      <th>address2</th>\n",
       "      <th>city</th>\n",
       "      <th>zip</th>\n",
       "      <th>focus</th>\n",
       "      <th>summary</th>\n",
       "    </tr>\n",
       "  </thead>\n",
       "  <tbody>\n",
       "    <tr>\n",
       "      <th>0</th>\n",
       "      <td>(-74.01375579519738, 40.703816216918035)</td>\n",
       "      <td>Alexander Hamilton U.S. Custom House</td>\n",
       "      <td>(212) 514-3700</td>\n",
       "      <td>http://www.oldnycustomhouse.gov/</td>\n",
       "      <td>1 Bowling Grn</td>\n",
       "      <td>NaN</td>\n",
       "      <td>New York</td>\n",
       "      <td>10004.0</td>\n",
       "      <td>NaN</td>\n",
       "      <td>NaN</td>\n",
       "    </tr>\n",
       "    <tr>\n",
       "      <th>1</th>\n",
       "      <td>(-74.06303178855111, 40.615120837755356)</td>\n",
       "      <td>Alice Austen House Museum</td>\n",
       "      <td>(718) 816-4506</td>\n",
       "      <td>http://www.aliceausten.org/</td>\n",
       "      <td>2 Hylan Blvd</td>\n",
       "      <td>NaN</td>\n",
       "      <td>Staten Island</td>\n",
       "      <td>10305.0</td>\n",
       "      <td>NaN</td>\n",
       "      <td>NaN</td>\n",
       "    </tr>\n",
       "    <tr>\n",
       "      <th>2</th>\n",
       "      <td>(-73.94729768541572, 40.833853500753314)</td>\n",
       "      <td>American Academy of Arts and Letters</td>\n",
       "      <td>(212) 368-5900</td>\n",
       "      <td>http://www.artsandletters.org/</td>\n",
       "      <td>633 W. 155th St.</td>\n",
       "      <td>NaN</td>\n",
       "      <td>New York</td>\n",
       "      <td>10032.0</td>\n",
       "      <td>Contemporary art</td>\n",
       "      <td>Exhibitions of its members in american literat...</td>\n",
       "    </tr>\n",
       "    <tr>\n",
       "      <th>3</th>\n",
       "      <td>(-73.97810302110001, 40.76162497138548)</td>\n",
       "      <td>American Folk Art Museum</td>\n",
       "      <td>(212) 265-1040</td>\n",
       "      <td>http://www.folkartmuseum.org/</td>\n",
       "      <td>45 West 53rd Street</td>\n",
       "      <td>NaN</td>\n",
       "      <td>New York</td>\n",
       "      <td>10019.0</td>\n",
       "      <td>Folk art</td>\n",
       "      <td>American folk art</td>\n",
       "    </tr>\n",
       "    <tr>\n",
       "      <th>4</th>\n",
       "      <td>(-74.0396848374904, 40.69905626244391)</td>\n",
       "      <td>American Immigration History Center</td>\n",
       "      <td>(212) 363-3200</td>\n",
       "      <td>http://www.ellisisland.org/</td>\n",
       "      <td>Ellis Island</td>\n",
       "      <td>NaN</td>\n",
       "      <td>New York</td>\n",
       "      <td>0.0</td>\n",
       "      <td>NaN</td>\n",
       "      <td>NaN</td>\n",
       "    </tr>\n",
       "  </tbody>\n",
       "</table>\n",
       "</div>"
      ],
      "text/plain": [
       "                                   the_geom  \\\n",
       "0  (-74.01375579519738, 40.703816216918035)   \n",
       "1  (-74.06303178855111, 40.615120837755356)   \n",
       "2  (-73.94729768541572, 40.833853500753314)   \n",
       "3   (-73.97810302110001, 40.76162497138548)   \n",
       "4    (-74.0396848374904, 40.69905626244391)   \n",
       "\n",
       "                                   name             tel  \\\n",
       "0  Alexander Hamilton U.S. Custom House  (212) 514-3700   \n",
       "1             Alice Austen House Museum  (718) 816-4506   \n",
       "2  American Academy of Arts and Letters  (212) 368-5900   \n",
       "3              American Folk Art Museum  (212) 265-1040   \n",
       "4   American Immigration History Center  (212) 363-3200   \n",
       "\n",
       "                                url              adress1 address2  \\\n",
       "0  http://www.oldnycustomhouse.gov/        1 Bowling Grn      NaN   \n",
       "1       http://www.aliceausten.org/         2 Hylan Blvd      NaN   \n",
       "2    http://www.artsandletters.org/     633 W. 155th St.      NaN   \n",
       "3     http://www.folkartmuseum.org/  45 West 53rd Street      NaN   \n",
       "4       http://www.ellisisland.org/         Ellis Island      NaN   \n",
       "\n",
       "            city      zip             focus  \\\n",
       "0       New York  10004.0               NaN   \n",
       "1  Staten Island  10305.0               NaN   \n",
       "2       New York  10032.0  Contemporary art   \n",
       "3       New York  10019.0          Folk art   \n",
       "4       New York      0.0               NaN   \n",
       "\n",
       "                                             summary  \n",
       "0                                                NaN  \n",
       "1                                                NaN  \n",
       "2  Exhibitions of its members in american literat...  \n",
       "3                                  American folk art  \n",
       "4                                                NaN  "
      ]
     },
     "execution_count": 38,
     "metadata": {},
     "output_type": "execute_result"
    }
   ],
   "source": [
    "# now that I've filled in as much as I could, + 29 extra data points\n",
    "df_final = pd.read_excel('museum_cleaning.xlsx').drop(columns='Unnamed: 0')\n",
    "df_final.head() #show repaired dataaset"
   ]
  },
  {
   "cell_type": "code",
   "execution_count": 39,
   "metadata": {},
   "outputs": [
    {
     "name": "stdout",
     "output_type": "stream",
     "text": [
      "<class 'pandas.core.frame.DataFrame'>\n",
      "RangeIndex: 52 entries, 0 to 51\n",
      "Data columns (total 11 columns):\n",
      " #   Column    Non-Null Count  Dtype  \n",
      "---  ------    --------------  -----  \n",
      " 0   index     52 non-null     int64  \n",
      " 1   the_geom  52 non-null     object \n",
      " 2   name      52 non-null     object \n",
      " 3   tel       52 non-null     object \n",
      " 4   url       52 non-null     object \n",
      " 5   adress1   52 non-null     object \n",
      " 6   address2  5 non-null      object \n",
      " 7   city      52 non-null     object \n",
      " 8   zip       52 non-null     float64\n",
      " 9   focus     35 non-null     object \n",
      " 10  summary   52 non-null     object \n",
      "dtypes: float64(1), int64(1), object(9)\n",
      "memory usage: 4.6+ KB\n"
     ]
    }
   ],
   "source": [
    "# so this is how much we have now... 52 full data rows. However, I want more.\n",
    "df_final[(df_final['the_geom'].notna()) & (df_final['summary'].notna())].reset_index().info()"
   ]
  },
  {
   "cell_type": "code",
   "execution_count": 29,
   "metadata": {},
   "outputs": [
    {
     "name": "stdout",
     "output_type": "stream",
     "text": [
      "<class 'pandas.core.frame.DataFrame'>\n",
      "RangeIndex: 80 entries, 0 to 79\n",
      "Data columns (total 10 columns):\n",
      " #   Column    Non-Null Count  Dtype  \n",
      "---  ------    --------------  -----  \n",
      " 0   the_geom  80 non-null     object \n",
      " 1   name      80 non-null     object \n",
      " 2   tel       78 non-null     object \n",
      " 3   url       80 non-null     object \n",
      " 4   adress1   80 non-null     object \n",
      " 5   address2  10 non-null     object \n",
      " 6   city      80 non-null     object \n",
      " 7   zip       80 non-null     float64\n",
      " 8   focus     0 non-null      object \n",
      " 9   summary   0 non-null      object \n",
      "dtypes: float64(1), object(9)\n",
      "memory usage: 6.4+ KB\n"
     ]
    }
   ],
   "source": [
    "# query the rows with coordinates and no summary, let's see what else we could do to supplement -\n",
    "## ...ok since there's 80 more ... that's all folks. Let me know if there's a better way than googling each one!\n",
    "### we'll plot the 52 that we have now.\n",
    "df_final[(df_final['the_geom'].notna()) & (df_final['summary'].isna())].reset_index(drop=True).info()"
   ]
  },
  {
   "cell_type": "markdown",
   "metadata": {},
   "source": [
    "##### save current final dataframe into csv or xlsx for Tableau to read, comment out when done"
   ]
  },
  {
   "cell_type": "code",
   "execution_count": null,
   "metadata": {},
   "outputs": [],
   "source": [
    "# df_final.to_csv('final_museum.csv')"
   ]
  }
 ],
 "metadata": {
  "kernelspec": {
   "display_name": "Python 3",
   "language": "python",
   "name": "python3"
  },
  "language_info": {
   "codemirror_mode": {
    "name": "ipython",
    "version": 3
   },
   "file_extension": ".py",
   "mimetype": "text/x-python",
   "name": "python",
   "nbconvert_exporter": "python",
   "pygments_lexer": "ipython3",
   "version": "3.6.10"
  }
 },
 "nbformat": 4,
 "nbformat_minor": 2
}
